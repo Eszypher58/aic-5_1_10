{
 "cells": [
  {
   "cell_type": "markdown",
   "metadata": {},
   "source": [
    "This exercise will require you to pull some data from the Qunadl API. Qaundl is currently the most widely used aggregator of financial market data."
   ]
  },
  {
   "cell_type": "markdown",
   "metadata": {},
   "source": [
    "As a first step, you will need to register a free account on the http://www.quandl.com website."
   ]
  },
  {
   "cell_type": "markdown",
   "metadata": {},
   "source": [
    "After you register, you will be provided with a unique API key, that you should store:"
   ]
  },
  {
   "cell_type": "code",
   "execution_count": 26,
   "metadata": {
    "collapsed": true
   },
   "outputs": [],
   "source": [
    "# Store the API key as a string - according to PEP8, constants are always named in all upper case\n",
    "API_KEY = 'JRzNaYH8Pz3RDdcBxN3b'"
   ]
  },
  {
   "cell_type": "markdown",
   "metadata": {},
   "source": [
    "Qaundl has a large number of data sources, but, unfortunately, most of them require a Premium subscription. Still, there are also a good number of free datasets."
   ]
  },
  {
   "cell_type": "markdown",
   "metadata": {},
   "source": [
    "For this mini project, we will focus on equities data from the Frankfurt Stock Exhange (FSE), which is available for free. We'll try and analyze the stock prices of a company called Carl Zeiss Meditec, which manufactures tools for eye examinations, as well as medical lasers for laser eye surgery: https://www.zeiss.com/meditec/int/home.html. The company is listed under the stock ticker AFX_X."
   ]
  },
  {
   "cell_type": "markdown",
   "metadata": {},
   "source": [
    "You can find the detailed Quandl API instructions here: https://docs.quandl.com/docs/time-series"
   ]
  },
  {
   "cell_type": "markdown",
   "metadata": {},
   "source": [
    "While there is a dedicated Python package for connecting to the Quandl API, we would prefer that you use the *requests* package, which can be easily downloaded using *pip* or *conda*. You can find the documentation for the package here: http://docs.python-requests.org/en/master/ "
   ]
  },
  {
   "cell_type": "markdown",
   "metadata": {},
   "source": [
    "Finally, apart from the *requests* package, you are encouraged to not use any third party Python packages, such as *pandas*, and instead focus on what's available in the Python Standard Library (the *collections* module might come in handy: https://pymotw.com/3/collections/).\n",
    "Also, since you won't have access to DataFrames, you are encouraged to us Python's native data structures - preferably dictionaries, though some questions can also be answered using lists.\n",
    "You can read more on these data structures here: https://docs.python.org/3/tutorial/datastructures.html"
   ]
  },
  {
   "cell_type": "markdown",
   "metadata": {},
   "source": [
    "Keep in mind that the JSON responses you will be getting from the API map almost one-to-one to Python's dictionaries. Unfortunately, they can be very nested, so make sure you read up on indexing dictionaries in the documentation provided above."
   ]
  },
  {
   "cell_type": "code",
   "execution_count": 27,
   "metadata": {
    "collapsed": true
   },
   "outputs": [],
   "source": [
    "# First, import the relevant modules\n",
    "import json\n",
    "import requests\n"
   ]
  },
  {
   "cell_type": "code",
   "execution_count": 28,
   "metadata": {
    "collapsed": true
   },
   "outputs": [],
   "source": [
    "# Now, call the Quandl API and pull out a small sample of the data (only one day) to get a glimpse\n",
    "# into the JSON structure that will be returned\n",
    "r_test = requests.get(\"https://www.quandl.com/api/v3/datasets/FSE/AFX_X/data.json?start_date=2019-08-25&end_date=2019-08-26&api_key=\" + API_KEY);\n",
    "r_test.status_code;"
   ]
  },
  {
   "cell_type": "code",
   "execution_count": 29,
   "metadata": {},
   "outputs": [
    {
     "name": "stdout",
     "output_type": "stream",
     "text": [
      "{'dataset_data': {'limit': None, 'transform': None, 'column_index': None, 'column_names': ['Date', 'Open', 'High', 'Low', 'Close', 'Change', 'Traded Volume', 'Turnover', 'Last Price of the Day', 'Daily Traded Units', 'Daily Turnover'], 'start_date': '2019-08-25', 'end_date': '2019-08-26', 'frequency': 'daily', 'data': [['2019-08-26', 102.8, 103.1, 101.4, 103.0, None, 63857.0, 6556853.5, None, None, None]], 'collapse': None, 'order': None}}\n"
     ]
    }
   ],
   "source": [
    "# Inspect the JSON structure of the object you created, and take note of how nested it is,\n",
    "# as well as the overall structure\n",
    "print(r_test.json());"
   ]
  },
  {
   "cell_type": "markdown",
   "metadata": {},
   "source": [
    "These are your tasks for this mini project:\n",
    "\n",
    "1. Collect data from the Franfurt Stock Exchange, for the ticker AFX_X, for the whole year 2017 (keep in mind that the date format is YYYY-MM-DD).\n",
    "2. Convert the returned JSON object into a Python dictionary.\n",
    "3. Calculate what the highest and lowest opening prices were for the stock in this period.\n",
    "4. What was the largest change in any one day (based on High and Low price)?\n",
    "5. What was the largest change between any two days (based on Closing Price)?\n",
    "6. What was the average daily trading volume during this year?\n",
    "7. (Optional) What was the median trading volume during this year. (Note: you may need to implement your own function for calculating the median.)"
   ]
  },
  {
   "cell_type": "code",
   "execution_count": 30,
   "metadata": {},
   "outputs": [
    {
     "name": "stdout",
     "output_type": "stream",
     "text": [
      "highest opening is:\n",
      "53.11\n",
      "lowest opening is:\n",
      "34.0\n",
      "largest differencec in any one day is:\n",
      "19.92\n",
      "largest difference between any two days based n closing price is:\n",
      "2.559999999999995\n",
      "average daily trading volume is:\n",
      "89124.33725490196\n"
     ]
    }
   ],
   "source": [
    "# Collect data from the Franfurt Stock Exchange, for the ticker AFX_X, for the whole year 2017 (keep in mind that the date format is YYYY-MM-DD).\n",
    "r = requests.get(\"https://www.quandl.com/api/v3/datasets/FSE/AFX_X/data.json?start_date=2017-01-01&end_date=2017-12-31&api_key=\" + API_KEY);\n",
    "r.status_code;\n",
    "\n",
    "# Convert the returned JSON object into a Python dictionary.\n",
    "data = r.json();\n",
    "\n",
    "# Calculate what the highest and lowest opening prices were for the stock in this period.\n",
    "data = r.json()['dataset_data']['data'];\n",
    "\n",
    "high = 0;\n",
    "low = 999999999;\n",
    "\n",
    "for x in data:\n",
    "    if x[1] != None:\n",
    "        if x[1] >= high:\n",
    "            high = x[1]\n",
    "        if x[1] <= low:\n",
    "            low = x[1]\n",
    "\n",
    "print(\"highest opening is:\");\n",
    "print(high);\n",
    "print(\"lowest opening is:\");\n",
    "print(low);\n",
    "\n",
    "# What was the largest change in any one day (based on High and Low price)?\n",
    "sameDayDifference = 0;\n",
    "sameDayHigh = 0;\n",
    "sameDayLow = 9999999; \n",
    "\n",
    "for x in data:\n",
    "    if x[2] >= sameDayHigh:\n",
    "        sameDayHigh = x[2]\n",
    "    if x[3] <= sameDayLow:\n",
    "        sameDayLow = x[3]\n",
    "\n",
    "sameDayDifference = sameDayHigh - sameDayLow;\n",
    "\n",
    "print(\"largest differencec in any one day is:\");\n",
    "print(sameDayDifference);\n",
    "\n",
    "# What was the largest change between any two days (based on Closing Price)?\n",
    "largestChange = 0;\n",
    "length = len(data);\n",
    "\n",
    "for index, line in enumerate(data):\n",
    "    if(index == length -1):\n",
    "        pass\n",
    "    else:\n",
    "        tempLargestChange = abs(line[4] - data[index+1][4]);\n",
    "        #print(\"index: \" + str(line[4]));\n",
    "        #print(\"next index: \" + str(data[index+1][4]))\n",
    "        #print(\"difference: \" + str(tempLargestChange))\n",
    "        if (tempLargestChange > largestChange):\n",
    "            largestChange = tempLargestChange;\n",
    "\n",
    "print(\"largest difference between any two days based n closing price is:\")     \n",
    "print(largestChange);\n",
    "\n",
    "#What was the average daily trading volume during this year?\n",
    "total = 0;\n",
    "\n",
    "for x in data:\n",
    "    total = total + x[6];\n",
    "\n",
    "averageVolume = total / length;\n",
    "\n",
    "print(\"average daily trading volume is:\")\n",
    "print(averageVolume);"
   ]
  }
 ],
 "metadata": {
  "kernelspec": {
   "display_name": "Python 3",
   "language": "python",
   "name": "python3"
  },
  "language_info": {
   "codemirror_mode": {
    "name": "ipython",
    "version": 3
   },
   "file_extension": ".py",
   "mimetype": "text/x-python",
   "name": "python",
   "nbconvert_exporter": "python",
   "pygments_lexer": "ipython3",
   "version": "3.6.2"
  }
 },
 "nbformat": 4,
 "nbformat_minor": 2
}
